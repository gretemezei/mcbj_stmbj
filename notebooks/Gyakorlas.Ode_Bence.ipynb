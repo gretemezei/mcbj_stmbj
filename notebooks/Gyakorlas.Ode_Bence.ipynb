{
 "cells": [
  {
   "cell_type": "code",
   "execution_count": 1,
   "id": "49af9fb1-5355-44ae-be89-35008a0fec68",
   "metadata": {},
   "outputs": [],
   "source": [
    "import sys\n",
    "\n",
    "full_path_to_modul_dir = 'D:\\mcbj_stmbj'  # here enter the full path to the directory that contains the modul on your computer\n",
    "sys.path.append(full_path_to_modul_dir)\n",
    "\n",
    "from mcbj import *\n",
    "import plots  # complex plot layouts\n",
    "import filter_traces  # to filter traces"
   ]
  },
  {
   "cell_type": "code",
   "execution_count": 2,
   "id": "3415ce1f-cef2-4d87-a644-4ee36fe45aad",
   "metadata": {},
   "outputs": [],
   "source": [
    "date = \"23_08_15\"\n",
    "home_folder = Path(f'//DATACENTER/BreakJunction_group/BJ_Data/{date}')"
   ]
  },
  {
   "cell_type": "code",
   "execution_count": null,
   "id": "6fbf3ebb-4682-42d7-b929-65796e72a1d6",
   "metadata": {},
   "outputs": [],
   "source": []
  }
 ],
 "metadata": {
  "kernelspec": {
   "display_name": "venv",
   "language": "python",
   "name": "venv"
  },
  "language_info": {
   "codemirror_mode": {
    "name": "ipython",
    "version": 3
   },
   "file_extension": ".py",
   "mimetype": "text/x-python",
   "name": "python",
   "nbconvert_exporter": "python",
   "pygments_lexer": "ipython3",
   "version": "3.8.8"
  }
 },
 "nbformat": 4,
 "nbformat_minor": 5
}
