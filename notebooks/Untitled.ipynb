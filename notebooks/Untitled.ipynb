{
 "cells": [
  {
   "cell_type": "code",
   "execution_count": 1,
   "id": "c4c1d738-d892-4df8-95a7-e728d1fdbdd2",
   "metadata": {},
   "outputs": [],
   "source": [
    "from mcbj import *\n",
    "from pca_and_ml import *\n",
    "from noise import *\n",
    "import filter_traces\n",
    "\n",
    "from IPython.display import display, Markdown\n",
    "import numpy as np\n",
    "import matplotlib.pyplot as plt\n",
    "from matplotlib.ticker import MultipleLocator, StrMethodFormatter\n",
    "import re\n",
    "import pandas as pd\n",
    "\n",
    "import plots\n",
    "\n",
    "date = \"21_05_21\"\n",
    "sample_rate = 50_000\n",
    "# home_folder = Path(f\"D:/BJ_Data/{date}\")\n",
    "home_folder = Path(f'//DATACENTER/BreakJunction_group/BJ_Data/{date}')\n",
    "results_folder = home_folder.joinpath('results')"
   ]
  },
  {
   "cell_type": "code",
   "execution_count": 3,
   "id": "3c0525fd-5e72-413d-9c1b-1c17e32f3368",
   "metadata": {},
   "outputs": [],
   "source": [
    "trace_pair=TracePair(10, load_from=home_folder)"
   ]
  },
  {
   "cell_type": "code",
   "execution_count": 15,
   "id": "25d67e54-501a-4db8-a9ae-ab1e16443544",
   "metadata": {},
   "outputs": [
    {
     "data": {
      "text/plain": [
       "(1e-05, 10)"
      ]
     },
     "execution_count": 15,
     "metadata": {},
     "output_type": "execute_result"
    },
    {
     "data": {
      "image/png": "[encoded data removed]",
      "text/plain": [
       "<Figure size 640x480 with 1 Axes>"
      ]
     },
     "metadata": {},
     "output_type": "display_data"
    }
   ],
   "source": [
    "fig, ax = plt.subplots(1)\n",
    "ax.plot(trace_pair.piezo_pull, trace_pair.conductance_pull, marker='o', markersize=2)\n",
    "ax.set_yscale('log')\n",
    "ax.set_xlim(98, 106)\n",
    "ax.set_ylim(1e-5, 10)"
   ]
  },
  {
   "cell_type": "code",
   "execution_count": 16,
   "id": "a0e3d164-a354-4ddb-b129-afa2c9bd0a10",
   "metadata": {},
   "outputs": [],
   "source": [
    "def convert_ohm_to_g0(resistance: Union[float, np.ndarray]) -> Union[float, np.ndarray]:\n",
    "    \"\"\"\n",
    "    Converts conductance in units of :math:`G_{0}` to resistance in Ohm\n",
    "\n",
    "    Parameters\n",
    "    ----------\n",
    "    conductance: float or numpy.array\n",
    "        conductance in units of the conductance quantum ::math::`G_{0}`\n",
    "\n",
    "    Returns\n",
    "    -------\n",
    "    res : float or numpy.array\n",
    "        resistance in units of Ohm\n",
    "\n",
    "    \"\"\"\n",
    "\n",
    "    return resistance ** -1 * 12900"
   ]
  },
  {
   "cell_type": "code",
   "execution_count": 18,
   "id": "12366ba6-5c94-4233-9fee-632565ec0267",
   "metadata": {},
   "outputs": [
    {
     "data": {
      "text/plain": [
       "1.29"
      ]
     },
     "execution_count": 18,
     "metadata": {},
     "output_type": "execute_result"
    }
   ],
   "source": [
    "convert_ohm_to_g0(10000)"
   ]
  },
  {
   "cell_type": "code",
   "execution_count": null,
   "id": "05b3fd12-fd3b-425d-9e91-6bec59f66af2",
   "metadata": {},
   "outputs": [],
   "source": []
  }
 ],
 "metadata": {
  "kernelspec": {
   "display_name": "venv",
   "language": "python",
   "name": "venv"
  },
  "language_info": {
   "codemirror_mode": {
    "name": "ipython",
    "version": 3
   },
   "file_extension": ".py",
   "mimetype": "text/x-python",
   "name": "python",
   "nbconvert_exporter": "python",
   "pygments_lexer": "ipython3",
   "version": "3.8.8"
  }
 },
 "nbformat": 4,
 "nbformat_minor": 5
}
